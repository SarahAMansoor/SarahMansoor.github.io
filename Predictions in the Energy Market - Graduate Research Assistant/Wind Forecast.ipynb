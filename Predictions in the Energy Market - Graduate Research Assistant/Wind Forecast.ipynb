{
 "cells": [
  {
   "cell_type": "markdown",
   "id": "0e901c72",
   "metadata": {},
   "source": [
    "how bidding depends on forecast (wind production) (weather forecast data)\n",
    "\n",
    "look at wind forecast data\n",
    "\n",
    "https://www.ecmwf.int/en/forecasts/datasets\n",
    "\n",
    "https://www.noaa.gov/weather\n",
    "\n",
    "https://registry.opendata.aws/noaa-gfs-bdp-pds/\n",
    "- US East Region\n",
    "- AWS S3 Bucket\n",
    "\n",
    "\n",
    "https://www.visualcrossing.com/weather/weather-data-services#\n",
    "\n",
    "\n",
    "bids table\n",
    "gen fuel table\n"
   ]
  },
  {
   "cell_type": "code",
   "execution_count": null,
   "id": "d04d9701",
   "metadata": {},
   "outputs": [],
   "source": []
  }
 ],
 "metadata": {
  "kernelspec": {
   "display_name": "Python 3 (ipykernel)",
   "language": "python",
   "name": "python3"
  },
  "language_info": {
   "codemirror_mode": {
    "name": "ipython",
    "version": 3
   },
   "file_extension": ".py",
   "mimetype": "text/x-python",
   "name": "python",
   "nbconvert_exporter": "python",
   "pygments_lexer": "ipython3",
   "version": "3.9.13"
  }
 },
 "nbformat": 4,
 "nbformat_minor": 5
}
